{
 "cells": [
  {
   "cell_type": "markdown",
   "metadata": {
    "collapsed": true
   },
   "source": [
    "# <center>Capstone Project - The Battle of Neighborhoods</center>"
   ]
  },
  {
   "cell_type": "markdown",
   "metadata": {},
   "source": [
    "<center> <h3> Moving from <span style=\"color:blue\">Ottawa</span> to <span style=\"color:blue\">Toronto?</span> - Determine neighborhoods in Toronto that are similar to your current neighboorhood in Ottawa ...</h3> </center>"
   ]
  },
  {
   "cell_type": "markdown",
   "metadata": {},
   "source": [
    "## Table of contents:\n",
    "1. [Introduction (Business Problem)](#intro)\n",
    "2. [Data](#data)\n",
    "3. [Methodology & Analysis](#method)\n",
    "4. [Results and Discussion](#results)\n",
    "5. [Conclusion](#conclusion)"
   ]
  },
  {
   "cell_type": "markdown",
   "metadata": {},
   "source": [
    "\n",
    "## Introduction (Business Problem) <a name=\"intro\"></a>"
   ]
  },
  {
   "cell_type": "markdown",
   "metadata": {},
   "source": [
    "This project is inspired by the challenges I faced with my family when trying to move from **Winnipeg** to **Ottawa**. We particularly had difficulties with selecting a decent neighbourhood in Ottawa which was similar to where we lived in Winnipeg considering different ammenities such as schools for our kids, parks, bars, restaurants etc. \n",
    "\n",
    "I decided to move things around a bit with this project, considering the recent increasing migration between **Ottawa** and **Toronto** *(the top 2 cities in Ontario, Canada based on population and metropolitan nature)*, I figured there'd be several families like mine but this time leaving Ottawa and in similar situation of deciding which neighborhood to settle in Toronto - *these are my stakeholders and I intend to help them solve this problem*.\n",
    "\n",
    "This project aims to determine clusters of neighborhood in Ottawa and compare them with clusters of neighborhoods in Toronto. Afterwards, determine neighbourhoods of Ottawa that are in similar clusters as Toronto neighborhoods. In addition to this, we will consider proximity to Downtown Toronto i.e. candidate neighborhoods will further be ranked by proximity to Downtown Toronto before suggestions and conclusions are made."
   ]
  },
  {
   "cell_type": "markdown",
   "metadata": {},
   "source": [
    "\n",
    "## Data <a name=\"data\"></a>"
   ]
  },
  {
   "cell_type": "markdown",
   "metadata": {},
   "source": [
    "To achieve our objective, we would require neighborhood data (with longitude & latitude coordinates) for both Ottawa and Ontario. After searching extensively on the internet, it is obvious that this data (especially in our required format) is not readilly available so we have to find alternative ways to acquire the data. The adopted approach will be to **scrape** the list of Ottawa and Toronto neighborhoods from Wikipedia, we will then wrangle the data to transform it into a format that makes it useful to acquire longitude & latitude information of each neighborhood using **geopy geocoder library**.\n",
    "\n",
    "We will then identify the coordinates of Downtown Toronto and compute the distance of all Toronto neighborhoods from the Downtown center. We will proceed to use the **Foursquare location data** to determine top venues across all neighborhoods in the 2 cities (Ottawa and Toronto).\n",
    "\n",
    "The data will be properly analysed and transformed to get it ready for further modelling."
   ]
  },
  {
   "cell_type": "code",
   "execution_count": null,
   "metadata": {},
   "outputs": [],
   "source": []
  }
 ],
 "metadata": {
  "kernelspec": {
   "display_name": "Python 3.5",
   "language": "python",
   "name": "python3"
  },
  "language_info": {
   "codemirror_mode": {
    "name": "ipython",
    "version": 3
   },
   "file_extension": ".py",
   "mimetype": "text/x-python",
   "name": "python",
   "nbconvert_exporter": "python",
   "pygments_lexer": "ipython3",
   "version": "3.5.5"
  }
 },
 "nbformat": 4,
 "nbformat_minor": 1
}
